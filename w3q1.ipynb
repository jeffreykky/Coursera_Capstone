{
 "cells": [
  {
   "cell_type": "markdown",
   "metadata": {},
   "source": [
    "# this notebook will be mainly used for the capstone project"
   ]
  },
  {
   "cell_type": "code",
   "execution_count": 143,
   "metadata": {},
   "outputs": [],
   "source": [
    "from bs4 import BeautifulSoup as bs\n",
    "import pandas as pd\n",
    "import numpy as np\n",
    "import requests"
   ]
  },
  {
   "cell_type": "code",
   "execution_count": 260,
   "metadata": {},
   "outputs": [
    {
     "data": {
      "text/plain": [
       "103"
      ]
     },
     "execution_count": 260,
     "metadata": {},
     "output_type": "execute_result"
    }
   ],
   "source": [
    "url='https://en.wikipedia.org/wiki/List_of_postal_codes_of_Canada:_M'\n",
    "response = requests.get(url)\n",
    "soup = bs(response.text, 'html.parser')\n",
    "table = soup.find('table',{'class':'wikitable sortable'}).tbody #grab the table content\n",
    "rows = table.find_all('tr') #identify the rows\n",
    "columns = [v.text.replace('\\n','') for v in rows[0].find_all('th')]#indentify the columns' name from the first row\n",
    "df=pd.DataFrame(columns=columns) #produce the dataframe from pandas\n",
    "for i in range(1, len(rows)): #read the contents of each row\n",
    "    tds = rows[i].find_all('td')\n",
    "    if len(tds) ==4:\n",
    "        values = [tds[0].text, tds[1].text,tds[2].text.replace('\\n','')]\n",
    "    else:\n",
    "        values = [td.text .replace('\\n','') for td in tds]\n",
    "    df = df.append(pd.Series(values, index = columns), ignore_index = True)#insert the values into the data frame\n",
    "df=df[df.Borough!='Not assigned'] #delete rows with borough = not assigned\n",
    "df = df.groupby([\"Postcode\", \"Borough\"], as_index=False).agg(lambda x: \", \".join(x)) # group the rows with the same borough with comma\n",
    "for index, row in df.iterrows():\n",
    "    if row['Neighbourhood'] == 'Not assigned':\n",
    "        row['Neighbourhood'] = row['Borough'] #replace the not assigned neighourhood with borough\n",
    "df.shape[0] #print the number of rows in the dataframe"
   ]
  },
  {
   "cell_type": "code",
   "execution_count": null,
   "metadata": {},
   "outputs": [],
   "source": []
  }
 ],
 "metadata": {
  "kernelspec": {
   "display_name": "Python 3",
   "language": "python",
   "name": "python3"
  },
  "language_info": {
   "codemirror_mode": {
    "name": "ipython",
    "version": 3
   },
   "file_extension": ".py",
   "mimetype": "text/x-python",
   "name": "python",
   "nbconvert_exporter": "python",
   "pygments_lexer": "ipython3",
   "version": "3.7.1"
  }
 },
 "nbformat": 4,
 "nbformat_minor": 2
}
